{
 "cells": [
  {
   "cell_type": "code",
   "execution_count": 1,
   "metadata": {},
   "outputs": [
    {
     "name": "stdout",
     "output_type": "stream",
     "text": [
      "/Users/ciaranohare/Work/Zaragoza/HaloSpin/code/HaloFuncs.py:53: RuntimeWarning: invalid value encountered in double_scalars\n",
      "  *erfi(v_esc/(sqrt(2)*sigr)*sqrt(beta/(1-beta)))\n",
      "\n"
     ]
    }
   ],
   "source": [
    "from numpy import *\n",
    "from numpy.random import *\n",
    "import matplotlib.pyplot as plt\n",
    "import matplotlib.cm as cm\n",
    "from PlotFuncs import *\n",
    "from LabFuncs import *\n",
    "from Params import *\n",
    "from HaloFuncs import *\n",
    "from scipy.stats import norm\n",
    "import pandas\n",
    "\n",
    "\n",
    "n = 300\n",
    "v = linspace(0.01,800.0,n)\n",
    "\n",
    "# Halo params\n",
    "HaloModel = SHMpp\n",
    "v0 = HaloModel.RotationSpeed\n",
    "v_esc = HaloModel.EscapeSpeed\n",
    "sig_beta = HaloModel.SausageDispersionTensor\n",
    "sig_iso = array([1.0,1.0,1.0])*v0/sqrt(2.0)\n",
    "day = 67.0 \n",
    "\n",
    "# Load shards\n",
    "df = pandas.read_csv('../data/FitShards_red.csv')\n",
    "names = df.group_id\n",
    "nshards = size(names)\n",
    "velocities = zeros(shape=(nshards,3))\n",
    "dispersions = zeros(shape=(nshards,3))\n",
    "velocities[0:(nshards),0] = df.vx # stream velocities\n",
    "velocities[0:(nshards),1] = df.vy\n",
    "velocities[0:(nshards),2] = df.vz\n",
    "dispersions[0:(nshards),0] = df.sigx # dispersion tensors\n",
    "dispersions[0:(nshards),1] = df.sigy\n",
    "dispersions[0:(nshards),2] = df.sigz\n",
    "pops = df.population\n",
    "Psun = df.Psun\n",
    "weights = ShardsWeights(names,pops,Psun)\n",
    "\n",
    "\n",
    "# Smooth Speed distributions\n",
    "fv_Iso_lab = SpeedDist_Triaxial(v,day,sig_iso) # Round halo\n",
    "fv_Saus_lab = SpeedDist_Triaxial(v,day,sig_beta) # Sausage\n",
    "fv_Iso_gf = SpeedDist_Triaxial(v,day,sig_iso,GravFocus=True) # Round halo\n",
    "fv_Saus_gf = SpeedDist_Triaxial(v,day,sig_beta,GravFocus=True) # Sausage\n",
    "fv_lab = zeros(shape=(nshards,n))\n",
    "fv_gf = zeros(shape=(nshards,n))\n",
    "\n",
    "for i in range(0,nshards):\n",
    "    v_s = velocities[i,:]\n",
    "    sig_s = dispersions[i,:]\n",
    "    fv_lab[i] = weights[i]*SpeedDist_Triaxial(v,day,sig_s,v_shift=v_s,EscapeSpeed=False)\n",
    "    "
   ]
  },
  {
   "cell_type": "code",
   "execution_count": null,
   "metadata": {},
   "outputs": [],
   "source": [
    "n_xi = 10\n",
    "xi_max = 0.1\n",
    "xi_vals = linspace(0.0,xi_max,n_xi)\n",
    "\n",
    "fvs_lab = sum(fv_lab,0)\n",
    "\n",
    "xi_S2 = 0.9\n",
    "fvnS2 = sum(fv_lab[3:,:],0)+fv_lab[0,:]\n",
    "fvnS2 /= trapz(fvnS2,v)\n",
    "fvS2 = fv_lab[1,:]+fv_lab[2,:]\n",
    "fvS2 /= trapz(fvS2,v)\n",
    "fvS2 = xi_S2*fvS2+(1-xi_S2)*fvnS2\n",
    "\n",
    "def RSdef(fvs_lab):\n",
    "    fv0 = (((1-eta_saus)*fv_Iso_lab + eta_saus*fv_Saus_lab))\n",
    "    R0 = trapz(fv0**2.0/v,v)**(-0.25)\n",
    "    RS = zeros(shape=n_xi)\n",
    "    for i in range(0,n_xi):\n",
    "        xi = xi_vals[i]\n",
    "        fv1 = (((1-eta_saus-xi)*fv_Iso_lab + eta_saus*fv_Saus_lab + xi*fvs_lab))\n",
    "        R1 = trapz(fv1**2.0/v,v)**(-0.25)\n",
    "        RS[i] = 100*(1-R1/R0)\n",
    "\n",
    "print(RSdef(fvs_lab))\n",
    "print(RSdef(fvS2))"
   ]
  }
 ],
 "metadata": {
  "kernelspec": {
   "display_name": "Python 3",
   "language": "python",
   "name": "python3"
  },
  "language_info": {
   "codemirror_mode": {
    "name": "ipython",
    "version": 3
   },
   "file_extension": ".py",
   "mimetype": "text/x-python",
   "name": "python",
   "nbconvert_exporter": "python",
   "pygments_lexer": "ipython3",
   "version": "3.7.3"
  }
 },
 "nbformat": 4,
 "nbformat_minor": 2
}
