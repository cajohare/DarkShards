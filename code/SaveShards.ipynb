{
 "cells": [
  {
   "cell_type": "markdown",
   "metadata": {},
   "source": [
    "This file just gets the two shards files merges them and saves the basic info to Shards.csv"
   ]
  },
  {
   "cell_type": "code",
   "execution_count": 1,
   "metadata": {},
   "outputs": [],
   "source": [
    "from numpy import *\n",
    "import pandas\n",
    "\n",
    "# Basic params to set\n",
    "params = ['vx','vy','vz','sigx','sigy','sigz','population']\n",
    "\n",
    "# First 30\n",
    "df1 = pandas.read_csv('../data/GAIA_SDSS_substructures_shards_cands.csv')\n",
    "names = df1.group_id.unique()\n",
    "\n",
    "num_cands = size(names)\n",
    "dat1 = zeros(shape=(num_cands,7))\n",
    "for i in range(0,num_cands):\n",
    "    Cand = df1.loc[df1['group_id'] == names[i]]\n",
    "    U = Cand.GalRVel\n",
    "    V = Cand.GalTVel\n",
    "    W = Cand.GalzVel\n",
    "    dat1[i,0:3] = array([mean(U),mean(V),mean(W)])\n",
    "    dat1[i,3:6] = array([std(U),std(V),std(W)])\n",
    "    dat1[i,6] = size(U)\n",
    "    \n",
    "df_dat1 = pandas.DataFrame(dat1,columns=params)\n",
    "df_names = pandas.DataFrame(names,columns=['ID'])\n",
    "dat1_full = df_names.join(df_dat1)\n",
    "\n",
    "\n",
    "# Second 30\n",
    "df2 = pandas.read_csv('../data/GAIA_SDSS_substructures_next_30_cands.csv')\n",
    "names = df2.group_id.unique()\n",
    "\n",
    "num_cands = size(names)\n",
    "dat2 = zeros(shape=(num_cands,7))\n",
    "for i in range(0,num_cands):\n",
    "    Cand = df2.loc[df2['group_id'] == names[i]]\n",
    "    U = Cand.GalRVel\n",
    "    V = Cand.GalTVel\n",
    "    W = Cand.GalzVel\n",
    "    dat2[i,0:3] = array([mean(U),mean(V),mean(W)])\n",
    "    dat2[i,3:6] = array([std(U),std(V),std(W)])\n",
    "    dat2[i,6] = size(U)\n",
    "    \n",
    "df_dat2 = pandas.DataFrame(dat2,columns=params)\n",
    "df_names = pandas.DataFrame(names,columns=['ID'])\n",
    "dat2_full = df_names.join(df_dat2)\n",
    "\n",
    "# Save basic data\n",
    "dat_full = dat1_full.append(dat2_full,ignore_index=True)\n",
    "dat_full.to_csv('../data/Shards.csv',float_format='%.3f',index=False)\n",
    "\n",
    "# Save everything to one main file\n",
    "df_full = df1.append(df2,ignore_index=True)[df2.columns.tolist()]\n",
    "df_full.to_csv('../data/GAIA_SDSS_Shards.csv',float_format='%.8f',index=True)"
   ]
  },
  {
   "cell_type": "code",
   "execution_count": 81,
   "metadata": {
    "collapsed": true
   },
   "outputs": [],
   "source": [
    "# Read in basic data to check everything looks right\n",
    "df = pandas.read_csv('../data/Shards.csv')\n",
    "names = df.ID\n",
    "nshards = size(names)\n",
    "velocities = zeros(shape=(nshards,3))\n",
    "dispersions = zeros(shape=(nshards,3))\n",
    "velocities[0:(nshards),0] = df.vx\n",
    "velocities[0:(nshards),1] = df.vy\n",
    "velocities[0:(nshards),2] = df.vz\n",
    "dispersions[0:(nshards),0] = df.sigx\n",
    "dispersions[0:(nshards),1] = df.sigy\n",
    "dispersions[0:(nshards),2] = df.sigz\n",
    "pops = df.population\n",
    "pops /= sum(pops)"
   ]
  }
 ],
 "metadata": {
  "kernelspec": {
   "display_name": "Python 2",
   "language": "python",
   "name": "python2"
  },
  "language_info": {
   "codemirror_mode": {
    "name": "ipython",
    "version": 2
   },
   "file_extension": ".py",
   "mimetype": "text/x-python",
   "name": "python",
   "nbconvert_exporter": "python",
   "pygments_lexer": "ipython2",
   "version": "2.7.6"
  }
 },
 "nbformat": 4,
 "nbformat_minor": 2
}
