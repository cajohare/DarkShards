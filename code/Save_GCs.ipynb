{
 "cells": [
  {
   "cell_type": "code",
   "execution_count": 17,
   "metadata": {},
   "outputs": [],
   "source": [
    "from numpy import *\n",
    "import pandas\n",
    "\n",
    "E = array([1.425,1.123,1.85,0.972,2.076,2.223,1.94])*(-1.0e5)\n",
    "E_el = array([8.4,3.0,0.8,4.4,0.7,3.3,8.9])*(-1000.0)\n",
    "E_eu = array([8.2,3.2,0.9,4.4,0.8,3.8,8.2])*(-1000.0)\n",
    "\n",
    "\n",
    "JR = array([620,900,270,1400,140,80,54])*1.0\n",
    "JR_el = array([130,120,30,210,30,5,7])*1.0\n",
    "JR_eu = array([160,140,30,240,30,10,10])*1.0\n",
    "\n",
    "\n",
    "Jphi = array([-1250,-2800,-520,-3210,-350,-250,-590])*1.0\n",
    "Jphi_el = array([150,90,30,210,30,30,110])*1.0\n",
    "Jphi_eu = array([150,80,30,200,30,40,110])*1.0\n",
    "\n",
    "\n",
    "Jz = array([230,310,100,800,66,71,150])*1.0\n",
    "Jz_el = array([40,20,20,50,7,1.3,30])*(1.0)\n",
    "Jz_eu = array([50,20,20,60,8,1.4,30])*1.0\n",
    "\n",
    "pericentre = array([3.8,8.4,1.5,10.7,1.3,0.9,2.5])\n",
    "pericentre_el = array([0.5,0.1,0.1,0.5,0.1,0.1,0.5])*(1.0)\n",
    "pericentre_eu = array([0.5,0.1,0.1,0.5,0.1,0.1,0.5])\n",
    "\n",
    "apocentre = array([16.2,29.3,7.2,41.4,4.5,3.5,4.9])\n",
    "apocentre_el = array([2.6,2.1,0.2,4.2,0.1,0.5,0.8])*(1.0)\n",
    "apocentre_eu = array([3.0,2.6,0.1,4.7,0.2,0.2,0.9])\n",
    "\n",
    "ecc = array([0.62,0.55,0.65,0.59,0.59,0.59,0.34])\n",
    "orb_incl_deg = array([146.5,152.6,139.7,143.1,159.0,149.2,142.5])\n",
    "\n",
    "#data = zeros(shape=(7,20))\n",
    "data = vstack((E,E_el,E_eu,JR,JR_el,JR_eu,Jphi,Jphi_el,Jphi_eu,Jz,Jz_el,Jz_eu,\n",
    "               pericentre,pericentre_el,pericentre_eu,\n",
    "               apocentre,apocentre_el,apocentre_eu,ecc,orb_incl_deg)).T\n",
    "\n",
    "\n",
    "df_names = pandas.DataFrame(names,columns=['ID'])\n",
    "names = array(['FSR1758','NGC 3201','$\\omega$ Centauri','NGC 6101','NGC 6535','NGC 6388','NGC 6401'])\n",
    "\n",
    "\n",
    "params = ['E','E_el','E_eu','JR','JR_el','JR_eu','Jphi','Jphi_el','Jphi_eu','Jz','Jz_el','Jz_eu',\n",
    "          'pericentre','pericentre_el','pericentre_eu',\n",
    "          'apocentre','apocentre','apocentre',\n",
    "          'ecc','orb_incl_deg']\n",
    "df = pandas.DataFrame(data,columns=params)\n",
    "df = df_names.join(df)\n",
    "\n",
    "\n",
    "# Save basic data\n",
    "df.to_csv('../data/Sequoia_GCs.csv',float_format='%.3f',index=False)\n"
   ]
  },
  {
   "cell_type": "code",
   "execution_count": 13,
   "metadata": {},
   "outputs": [
    {
     "data": {
      "text/plain": [
       "array([[-1.425e+05, -8.400e+03,  8.200e+03,  6.200e+02, -1.300e+02,\n",
       "         1.600e+02, -1.250e+03, -1.500e+02,  1.500e+02,  2.300e+02,\n",
       "        -4.000e+01,  5.000e+01,  3.800e+00, -5.000e-01,  5.000e-01,\n",
       "         1.620e+01, -2.600e+00,  3.000e+00,  6.200e-01,  1.465e+02],\n",
       "       [-1.123e+05, -3.000e+03,  3.200e+03,  9.000e+02, -1.200e+02,\n",
       "         1.400e+02, -2.800e+03, -9.000e+01,  8.000e+01,  3.100e+02,\n",
       "        -2.000e+01,  2.000e+01,  8.400e+00, -1.000e-01,  1.000e-01,\n",
       "         2.930e+01, -2.100e+00,  2.600e+00,  5.500e-01,  1.526e+02],\n",
       "       [-1.850e+05, -8.000e+02,  9.000e+02,  2.700e+02, -3.000e+01,\n",
       "         3.000e+01, -5.200e+02, -3.000e+01,  3.000e+01,  1.000e+02,\n",
       "        -2.000e+01,  2.000e+01,  1.500e+00, -1.000e-01,  1.000e-01,\n",
       "         7.200e+00, -2.000e-01,  1.000e-01,  6.500e-01,  1.397e+02],\n",
       "       [-9.720e+04, -4.400e+03,  4.400e+03,  1.400e+03, -2.100e+02,\n",
       "         2.400e+02, -3.210e+03, -2.100e+02,  2.000e+02,  8.000e+02,\n",
       "        -5.000e+01,  6.000e+01,  1.070e+01, -5.000e-01,  5.000e-01,\n",
       "         4.140e+01, -4.200e+00,  4.700e+00,  5.900e-01,  1.431e+02],\n",
       "       [-2.076e+05, -7.000e+02,  8.000e+02,  1.400e+02, -3.000e+01,\n",
       "         3.000e+01, -3.500e+02, -3.000e+01,  3.000e+01,  6.600e+01,\n",
       "        -7.000e+00,  8.000e+00,  1.300e+00, -1.000e-01,  1.000e-01,\n",
       "         4.500e+00, -1.000e-01,  2.000e-01,  5.900e-01,  1.590e+02],\n",
       "       [-2.223e+05, -3.300e+03,  3.800e+03,  8.000e+01, -5.000e+00,\n",
       "         1.000e+01, -2.500e+02, -3.000e+01,  4.000e+01,  7.100e+01,\n",
       "        -1.300e+00,  1.400e+00,  9.000e-01, -1.000e-01,  1.000e-01,\n",
       "         3.500e+00, -5.000e-01,  2.000e-01,  5.900e-01,  1.492e+02],\n",
       "       [-1.940e+05, -8.900e+03,  8.200e+03,  5.400e+01, -7.000e+00,\n",
       "         1.000e+01, -5.900e+02, -1.100e+02,  1.100e+02,  1.500e+02,\n",
       "        -3.000e+01,  3.000e+01,  2.500e+00, -5.000e-01,  5.000e-01,\n",
       "         4.900e+00, -8.000e-01,  9.000e-01,  3.400e-01,  1.425e+02]])"
      ]
     },
     "execution_count": 13,
     "metadata": {},
     "output_type": "execute_result"
    }
   ],
   "source": [
    "data"
   ]
  },
  {
   "cell_type": "code",
   "execution_count": 14,
   "metadata": {},
   "outputs": [
    {
     "data": {
      "text/plain": [
       "(19,)"
      ]
     },
     "execution_count": 14,
     "metadata": {},
     "output_type": "execute_result"
    }
   ],
   "source": [
    "shape(params)"
   ]
  },
  {
   "cell_type": "code",
   "execution_count": null,
   "metadata": {},
   "outputs": [],
   "source": []
  }
 ],
 "metadata": {
  "kernelspec": {
   "display_name": "Python 3",
   "language": "python",
   "name": "python3"
  },
  "language_info": {
   "codemirror_mode": {
    "name": "ipython",
    "version": 3
   },
   "file_extension": ".py",
   "mimetype": "text/x-python",
   "name": "python",
   "nbconvert_exporter": "python",
   "pygments_lexer": "ipython3",
   "version": "3.7.3"
  }
 },
 "nbformat": 4,
 "nbformat_minor": 2
}
