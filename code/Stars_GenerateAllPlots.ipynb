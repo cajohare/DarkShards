{
 "cells": [
  {
   "cell_type": "code",
   "execution_count": 1,
   "metadata": {},
   "outputs": [
    {
     "name": "stdout",
     "output_type": "stream",
     "text": [
      "0\n"
     ]
    }
   ],
   "source": [
    "from numpy import *\n",
    "from numpy.random import *\n",
    "from TrianglePlot import *\n",
    "import pandas\n",
    "\n",
    "df = pandas.read_csv('../GAIA_SDSS_substructures_next_30_cands.csv')\n",
    "names = df.group_id.unique()\n",
    "num_cands = size(names)\n",
    "\n",
    "for i_cand in range(0,1):\n",
    "    Cand = df.loc[df['group_id'] == names[i_cand]]\n",
    "    name = names[i_cand]\n",
    "    nstars = size(Cand,0)\n",
    "    vx = Cand.GalRVel\n",
    "    vy = Cand.GalTVel\n",
    "    vz = Cand.GalzVel\n",
    "    feh = Cand.feh\n",
    "    VelocityTriangle(Cand)\n",
    "    print i_cand"
   ]
  },
  {
   "cell_type": "code",
   "execution_count": 5,
   "metadata": {},
   "outputs": [],
   "source": [
    "# S1\n",
    "df = pandas.read_csv('../S1_only_cat_simple.csv')\n",
    "name = 'S1'\n",
    "vx = df.GalRVel\n",
    "vy = df.GalphiVel\n",
    "vz = df.GalzVel\n",
    "feh = df.feh\n",
    "fig = VelocityTriangle(vx,vy,vz,feh,name)\n"
   ]
  },
  {
   "cell_type": "code",
   "execution_count": 2,
   "metadata": {},
   "outputs": [
    {
     "data": {
      "text/plain": [
       "0     NCand0\n",
       "1     NCand0\n",
       "2     NCand0\n",
       "3     NCand0\n",
       "4     NCand0\n",
       "5     NCand0\n",
       "6     NCand0\n",
       "7     NCand0\n",
       "8     NCand0\n",
       "9     NCand0\n",
       "10    NCand0\n",
       "11    NCand0\n",
       "12    NCand0\n",
       "13    NCand0\n",
       "14    NCand0\n",
       "15    NCand0\n",
       "16    NCand0\n",
       "17    NCand0\n",
       "18    NCand0\n",
       "19    NCand0\n",
       "20    NCand0\n",
       "21    NCand0\n",
       "22    NCand0\n",
       "23    NCand0\n",
       "24    NCand0\n",
       "25    NCand0\n",
       "26    NCand0\n",
       "27    NCand0\n",
       "28    NCand0\n",
       "Name: group_id, dtype: object"
      ]
     },
     "execution_count": 2,
     "metadata": {},
     "output_type": "execute_result"
    }
   ],
   "source": [
    "Cand.group_id"
   ]
  },
  {
   "cell_type": "code",
   "execution_count": null,
   "metadata": {
    "collapsed": true
   },
   "outputs": [],
   "source": []
  }
 ],
 "metadata": {
  "kernelspec": {
   "display_name": "Python 2",
   "language": "python",
   "name": "python2"
  },
  "language_info": {
   "codemirror_mode": {
    "name": "ipython",
    "version": 2
   },
   "file_extension": ".py",
   "mimetype": "text/x-python",
   "name": "python",
   "nbconvert_exporter": "python",
   "pygments_lexer": "ipython2",
   "version": "2.7.6"
  }
 },
 "nbformat": 4,
 "nbformat_minor": 2
}
