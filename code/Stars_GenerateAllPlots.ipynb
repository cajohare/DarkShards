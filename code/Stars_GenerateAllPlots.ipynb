{
 "cells": [
  {
   "cell_type": "code",
   "execution_count": 1,
   "metadata": {},
   "outputs": [
    {
     "name": "stdout",
     "output_type": "stream",
     "text": [
      "0\n",
      "1\n",
      "2\n",
      "3\n",
      "4\n",
      "5\n",
      "6\n",
      "7\n",
      "8\n",
      "9\n",
      "10\n",
      "11\n",
      "12\n",
      "13\n",
      "14\n",
      "15\n",
      "16\n",
      "17\n",
      "18\n",
      "19\n",
      "20\n",
      "21\n",
      "22\n",
      "23\n",
      "24\n",
      "25\n",
      "26\n",
      "27\n",
      "28\n",
      "29\n"
     ]
    }
   ],
   "source": [
    "from numpy import *\n",
    "from numpy.random import *\n",
    "from PlotFuncs import *\n",
    "import pandas\n",
    "\n",
    "df = pandas.read_csv('../GAIA_SDSS_substructures_next_30_cands.csv')\n",
    "names = df.group_id.unique()\n",
    "num_cands = size(names)\n",
    "\n",
    "colsubs = flipud(cm.Spectral(linspace(0.0,1.0,num_cands)))\n",
    "\n",
    "for i_cand in range(0,num_cands):\n",
    "    Cand = df.loc[df['group_id'] == names[i_cand]]\n",
    "    VelocityTriangle(Cand)\n",
    "    fig = XY_XZ(Cand,StarsColour=colsubs[i_cand,:])\n",
    "    plt.close(fig)\n",
    "    print i_cand"
   ]
  },
  {
   "cell_type": "code",
   "execution_count": 5,
   "metadata": {
    "collapsed": true
   },
   "outputs": [],
   "source": [
    "# S1\n",
    "df = pandas.read_csv('../S1_only_cat_simple.csv')\n",
    "name = 'S1'\n",
    "vx = df.GalRVel\n",
    "vy = df.GalphiVel\n",
    "vz = df.GalzVel\n",
    "feh = df.feh\n",
    "fig = VelocityTriangle(vx,vy,vz,feh,name)\n"
   ]
  },
  {
   "cell_type": "code",
   "execution_count": 5,
   "metadata": {},
   "outputs": [
    {
     "ename": "TypeError",
     "evalue": "'Series' object is not callable",
     "output_type": "error",
     "traceback": [
      "\u001b[0;31m---------------------------------------------------------------------------\u001b[0m",
      "\u001b[0;31mTypeError\u001b[0m                                 Traceback (most recent call last)",
      "\u001b[0;32m<ipython-input-5-55b076b30369>\u001b[0m in \u001b[0;36m<module>\u001b[0;34m()\u001b[0m\n\u001b[0;32m----> 1\u001b[0;31m \u001b[0mCand\u001b[0m\u001b[0;34m.\u001b[0m\u001b[0mgroup_id\u001b[0m\u001b[0;34m(\u001b[0m\u001b[0;34m)\u001b[0m\u001b[0;34m\u001b[0m\u001b[0m\n\u001b[0m",
      "\u001b[0;31mTypeError\u001b[0m: 'Series' object is not callable"
     ]
    }
   ],
   "source": [
    "Cand.group_id"
   ]
  },
  {
   "cell_type": "code",
   "execution_count": 2,
   "metadata": {},
   "outputs": [
    {
     "name": "stdout",
     "output_type": "stream",
     "text": [
      "\u001b[H\u001b[2J"
     ]
    }
   ],
   "source": [
    "clear(Cand)"
   ]
  },
  {
   "cell_type": "code",
   "execution_count": null,
   "metadata": {
    "collapsed": true
   },
   "outputs": [],
   "source": []
  }
 ],
 "metadata": {
  "kernelspec": {
   "display_name": "Python 2",
   "language": "python",
   "name": "python2"
  },
  "language_info": {
   "codemirror_mode": {
    "name": "ipython",
    "version": 2
   },
   "file_extension": ".py",
   "mimetype": "text/x-python",
   "name": "python",
   "nbconvert_exporter": "python",
   "pygments_lexer": "ipython2",
   "version": "2.7.6"
  }
 },
 "nbformat": 4,
 "nbformat_minor": 2
}
