{
 "cells": [
  {
   "cell_type": "code",
   "execution_count": 31,
   "metadata": {},
   "outputs": [
    {
     "data": {
      "image/png": "[encoded data removed]",
      "text/plain": [
       "<matplotlib.figure.Figure at 0x11113b910>"
      ]
     },
     "metadata": {},
     "output_type": "display_data"
    }
   ],
   "source": [
    "from numpy import *\n",
    "from numpy.random import *\n",
    "import matplotlib.pyplot as plt\n",
    "import matplotlib.cm as cm\n",
    "from mpl_toolkits.basemap import Basemap\n",
    "import matplotlib.gridspec as gridspec\n",
    "from matplotlib import colors\n",
    "import pandas\n",
    "from scipy.spatial import Delaunay\n",
    "from scipy.spatial import ConvexHull\n",
    "from scipy.stats import zscore,chi2\n",
    "from sklearn import mixture\n",
    "from scipy.special import erfinv\n",
    "\n",
    "# Load all stars\n",
    "df = pandas.read_csv('../data/GAIA_SDSS_Shards.csv')\n",
    "names = df.group_id.unique()\n",
    "num_cands = size(names)\n",
    "colsubs = flipud(cm.Spectral(linspace(0.0,1.0,num_cands)))\n",
    "Cand = df.loc[df['group_id'] == names[0]]\n",
    "\n",
    "\n",
    "# Get data\n",
    "name = Cand.group_id.unique()[0]\n",
    "nstars = size(Cand,0)\n",
    "feh = Cand.feh # metallicity\n",
    "vx,vy,vz = Cand.GalRVel,Cand.GalTVel,Cand.GalzVel # velocities\n",
    "x,y,z = Cand.GalRecX,Cand.GalRecY,Cand.GalRecZ # positions\n",
    "data = array([vx,vy,vz,x,y,z]).T\n",
    "\n",
    "clfc = mixture.GaussianMixture(n_components=2, covariance_type='full')\n",
    "clfc.fit(data)\n",
    "\n",
    "vmin=-495.0\n",
    "vmax=495.0\n",
    "nfine=500\n",
    "nbins_1D = 50\n",
    "levels=[-6.2,-2.3,0]\n",
    "RemoveOutliers = False\n",
    "cmap=cm.Greens\n",
    "col_hist='ForestGreen'\n",
    "colp = 'ForestGreen'\n",
    "col_a = 'tomato'\n",
    "col_b = 'purple'\n",
    "col_c = 'dodgerblue'\n",
    "point_size = 8\n",
    "lblsize = 28\n",
    "def_alph = 0.1\n",
    "vfine = linspace(vmin,vmax,nfine)\n",
    "V1,V2 = meshgrid(vfine,vfine)\n",
    "\n",
    "i = 0\n",
    "j = 1\n",
    "covs = clfc.covariances_\n",
    "meens = clfc.means_\n",
    "fv = zeros(shape=shape(V1))\n",
    "if ndim(covs)>2:\n",
    "    for k in range(0,shape(covs)[0]):\n",
    "        U = squeeze(linalg.inv(covs[k,:,:]))\n",
    "        v10 = meens[k,i]\n",
    "        v20 = meens[k,j]\n",
    "        U0 = array([[U[i,i],U[i,j]],[U[j,i],U[j,j]]])\n",
    "        V = vstack((U[i,:],U[j,:]))    \n",
    "        V = delete(V, (i,j), axis=1)\n",
    "\n",
    "        W = delete(U, (i,j), axis=0)\n",
    "        W = delete(W, (i,j), axis=1)\n",
    "        Ut = U0 - linalg.multi_dot([V, linalg.inv(W), V.T])\n",
    "        V1o = V1-v10\n",
    "        V2o = V2-v20\n",
    "        Norm = (1.0/sqrt(2*pi))*sqrt(linalg.det(W))   \n",
    "        fv += Norm*exp(-0.5*(V1o**2.0*Ut[0,0]+V2o**2.0*Ut[1,1]+2*V1o*V2o*Ut[1,0]))   \n",
    "fv = log(fv)\n",
    "fv = fv-amax(fv)\n",
    "\n",
    "\n",
    "plt.plot(vx,vy,'o',markersize=point_size+3,markerfacecolor='none',markeredgecolor=colp,label='Outliers')\n",
    "plt.contour(vfine,vfine,fv,levels=levels,colors=col_c,linewidths=3,linestyles='solid')\n",
    "plt.show()\n"
   ]
  },
  {
   "cell_type": "code",
   "execution_count": 29,
   "metadata": {},
   "outputs": [
    {
     "data": {
      "text/plain": [
       "array([[ 0.00091085, -0.00099331],\n",
       "       [-0.00099331,  0.00161159]])"
      ]
     },
     "execution_count": 29,
     "metadata": {},
     "output_type": "execute_result"
    }
   ],
   "source": [
    "U0-linalg.multi_dot([V, linalg.inv(W), V.T])"
   ]
  },
  {
   "cell_type": "code",
   "execution_count": 25,
   "metadata": {},
   "outputs": [
    {
     "name": "stdout",
     "output_type": "stream",
     "text": [
      "[ 0.00286481  0.00298631  0.00100815 -0.05580987 -0.02372455  0.02492401]\n",
      "[ 0.00298631  0.00482149  0.00137519 -0.10454929 -0.03257076  0.04356885]\n",
      "[ 0.00100815  0.00137519  0.00128302 -0.03574663 -0.03309625  0.02651975]\n",
      "[-0.05580987 -0.10454929 -0.03574663  2.70294548  0.95899009 -1.16562542]\n",
      "[-0.02372455 -0.03257076 -0.03309625  0.95899009  2.15191723 -0.99087929]\n",
      "[ 0.02492401  0.04356885  0.02651975 -1.16562542 -0.99087929  0.99588093]\n"
     ]
    }
   ],
   "source": [
    "for i in range(0,6):\n",
    "    print U[i,:]"
   ]
  },
  {
   "cell_type": "code",
   "execution_count": 26,
   "metadata": {},
   "outputs": [
    {
     "data": {
      "text/plain": [
       "array([[ 0.00298631, -0.05580987, -0.02372455,  0.02492401],\n",
       "       [ 0.00482149, -0.10454929, -0.03257076,  0.04356885]])"
      ]
     },
     "execution_count": 26,
     "metadata": {},
     "output_type": "execute_result"
    }
   ],
   "source": [
    "V"
   ]
  },
  {
   "cell_type": "code",
   "execution_count": null,
   "metadata": {
    "collapsed": true
   },
   "outputs": [],
   "source": []
  }
 ],
 "metadata": {
  "kernelspec": {
   "display_name": "Python 2",
   "language": "python",
   "name": "python2"
  },
  "language_info": {
   "codemirror_mode": {
    "name": "ipython",
    "version": 2
   },
   "file_extension": ".py",
   "mimetype": "text/x-python",
   "name": "python",
   "nbconvert_exporter": "python",
   "pygments_lexer": "ipython2",
   "version": "2.7.6"
  }
 },
 "nbformat": 4,
 "nbformat_minor": 2
}
