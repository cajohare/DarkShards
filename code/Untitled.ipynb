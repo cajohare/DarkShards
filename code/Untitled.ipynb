{
 "cells": [
  {
   "cell_type": "code",
   "execution_count": null,
   "metadata": {
    "collapsed": true
   },
   "outputs": [],
   "source": [
    "from numpy import *\n",
    "from numpy.random import *\n",
    "import matplotlib.pyplot as plt\n",
    "import matplotlib.cm as cm\n",
    "from mpl_toolkits.basemap import Basemap\n",
    "from LabFuncs import *\n",
    "from Params import *\n",
    "from HaloFuncs import *\n",
    "from WIMPFuncs import *\n",
    "# Set plot rc params\n",
    "plt.rcParams['axes.linewidth'] = 2.5\n",
    "plt.rc('text', usetex=True)\n",
    "plt.rc('font', family='serif')\n",
    "\n",
    "#######\n",
    "\n",
    "# v range\n",
    "n = 100\n",
    "v = linspace(0,850.0,n)\n",
    "\n",
    "# Halo params\n",
    "HaloModel = SHMpp\n",
    "v0 = HaloModel.RotationSpeed\n",
    "v_esc = HaloModel.EscapeSpeed\n",
    "beta = HaloModel.SausageBeta\n",
    "v_lab = LabVelocitySimple(67,HaloModel)\n",
    "\n",
    "# Load shards\n",
    "dat = loadtxt('../shards.txt',delimiter=',')\n",
    "\n",
    "# Speed distributions\n",
    "fv_Iso = SpeedDist_Isotropic(v,v_lab,v0,v_esc)\n",
    "\n",
    "nshards = 21\n",
    "xi_halo = 0.8\n",
    "xi_s = (1.0-xi_halo)/(1.0*nshards)\n",
    "fv = zeros(shape=(nshards,n))\n",
    "print 'Shards velocities (vx,vy,vz) and dispersions (sig_x,sig_y,sig_z):'\n",
    "for i in range(0,nshards):\n",
    "    v_s = dat[i,0:3]\n",
    "    sig_s = dat[i,6:9]\n",
    "    fv[i,:] = SpeedDist_3D(v,(v_lab-v_s),sig_s)/(1.0*nshards)\n",
    "    plt.fill_between(v,1e3*fv[i,:],linewidth=3,alpha=0.1)\n",
    "    sigr = sig_s[0]\n",
    "    sigphi = sig_s[1]\n",
    "    sigz = sig_s[2]\n",
    "    beta = 1.0-(sigr**2.0+sigz**2.0)/(2*sigr**2.0)\n",
    "    print i+1,\":    V_str = \",v_s,\"|     sigma_str = \",sig_s\n",
    "\n"
   ]
  }
 ],
 "metadata": {
  "kernelspec": {
   "display_name": "Python 2",
   "language": "python",
   "name": "python2"
  },
  "language_info": {
   "codemirror_mode": {
    "name": "ipython",
    "version": 2
   },
   "file_extension": ".py",
   "mimetype": "text/x-python",
   "name": "python",
   "nbconvert_exporter": "python",
   "pygments_lexer": "ipython2",
   "version": "2.7.6"
  }
 },
 "nbformat": 4,
 "nbformat_minor": 2
}
