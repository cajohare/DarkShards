{
 "cells": [
  {
   "cell_type": "code",
   "execution_count": 29,
   "metadata": {},
   "outputs": [
    {
     "data": {
      "image/png": "[encoded data removed]",
      "text/plain": [
       "<matplotlib.figure.Figure at 0x104422890>"
      ]
     },
     "metadata": {},
     "output_type": "display_data"
    }
   ],
   "source": [
    "from numpy import *\n",
    "from numpy.random import *\n",
    "import matplotlib.pyplot as plt\n",
    "import matplotlib.cm as cm\n",
    "from mpl_toolkits.basemap import Basemap\n",
    "from PlotFuncs import *\n",
    "from LabFuncs import *\n",
    "from Params import *\n",
    "from HaloFuncs import *\n",
    "from scipy.stats import norm\n",
    "import pandas\n",
    "\n",
    "# Set plot rc params\n",
    "plt.rcParams['axes.linewidth'] = 2.5\n",
    "plt.rc('text', usetex=True)\n",
    "plt.rc('font', family='serif')\n",
    "\n",
    "#######\n",
    "\n",
    "# v range\n",
    "n = 300\n",
    "v = linspace(0.01,850.0,n)\n",
    "\n",
    "# Halo params\n",
    "HaloModel = SHMpp\n",
    "v0 = HaloModel.RotationSpeed\n",
    "v_esc = HaloModel.EscapeSpeed\n",
    "sig_beta = HaloModel.SausageDispersionTensor\n",
    "sig_iso = array([1.0,1.0,1.0])*v0/sqrt(2.0)\n",
    "day = 67.0 \n",
    "\n",
    "sig3 = sig_iso\n",
    "\n",
    "\n",
    "sigr = sig3[0]\n",
    "sigphi = sig3[1]\n",
    "sigz = sig3[2]\n",
    "v_shift = array([0.0,0.0,0.0])\n",
    "\n",
    "beta = 1.0-(sigphi**2.0+sigz**2.0)/(2*sigr**2.0)\n",
    "N_esc = Nesc_Isotropic(sigr,v_esc)\n",
    "\n",
    "N = 1.0/(N_esc*(2*pi)**(1.5)*sigr*sigphi*sigz)\n",
    "n = size(v)\n",
    "fv1 = zeros(shape=n)\n",
    "\n",
    "v_off = -v_shift\n",
    "v_max = v_esc\n",
    "\n",
    "vv_off = sqrt(sum(v_off**2.0))\n",
    "vr = (v_max-vv_off)*sqrt(1-C**2.0)*cos(P)+v_off[0]\n",
    "vphi = (v_max-vv_off)*sqrt(1-C**2.0)*sin(P)+v_off[1]\n",
    "vz = (v_max-vv_off)*C+v_off[2]\n",
    "V = sqrt(vr**2.0+vphi**2.0+vz**2.0)\n",
    "Fcorr = N*exp(-(vr**2.0/(2*sigr**2.0))\\\n",
    "              -(vz**2.0/(2*sigz**2.0))\\\n",
    "              -(vphi**2.0/(2*sigphi**2.0)))\n",
    "for i in range(0,n):\n",
    "    v1 = v[i]\n",
    "    vr = v1*sqrt(1-C**2.0)*cos(P)+v_off[0]\n",
    "    vphi = v1*sqrt(1-C**2.0)*sin(P)+v_off[1]\n",
    "    vz = v1*C+v_off[2]\n",
    "    V = sqrt(vr**2.0+vphi**2.0+vz**2.0)\n",
    "\n",
    "    F  = N*exp(-(vr**2.0/(2*sigr**2.0))\\\n",
    "               -(vz**2.0/(2*sigz**2.0))\\\n",
    "               -(vphi**2.0/(2*sigphi**2.0)))*(V<v_max)\n",
    "\n",
    "    F = F-Fcorr\n",
    "    fv1[i] = (v1**2.0)*dth*dph*sum(sum(F))\n",
    "fv1[v>v_max] = 0.0\n",
    "#fv1 /= trapz(fv1,v)\n",
    "\n",
    "\n",
    "plt.plot(v,fv1)\n",
    "plt.ylim([0,0.0001])\n",
    "plt.xlim([0,20])\n",
    "plt.show()\n"
   ]
  },
  {
   "cell_type": "code",
   "execution_count": 13,
   "metadata": {},
   "outputs": [],
   "source": [
    "vv_off = sqrt(sum(v_off**2.0))\n",
    "vr = (v_max-vv_off)*sqrt(1-C**2.0)*cos(P)+v_off[0]\n",
    "vphi = (v_max-vv_off)*sqrt(1-C**2.0)*sin(P)+v_off[1]\n",
    "vz = (v_max-vv_off)*C+v_off[2]\n",
    "V = sqrt(vr**2.0+vphi**2.0+vz**2.0)\n",
    "Fcorr = N*exp(-(vr**2.0/(2*sigr**2.0))\\\n",
    "              -(vz**2.0/(2*sigz**2.0))\\\n",
    "              -(vphi**2.0/(2*sigphi**2.0)))"
   ]
  },
  {
   "cell_type": "code",
   "execution_count": 30,
   "metadata": {},
   "outputs": [
    {
     "name": "stdout",
     "output_type": "stream",
     "text": [
      "['BurkertPotential', 'CorotatingRotationWrapperPotential', 'CosmphiDiskPotential', 'DehnenBarPotential', 'DehnenSmoothWrapperPotential', 'DiskSCFPotential', 'DoubleExponentialDiskPotential', 'EllipsoidalPotential', 'EllipticalDiskPotential', 'FerrersPotential', 'FlattenedPowerPotential', 'GaussianAmplitudeWrapperPotential', 'HenonHeilesPotential', 'HernquistPotential', 'InterpSnapshotRZPotential', 'IsochronePotential', 'JaffePotential', 'KGPotential', 'KeplerPotential', 'KuzminDiskPotential', 'KuzminKutuzovStaeckelPotential', 'LogarithmicHaloPotential', 'LopsidedDiskPotential', 'MN3ExponentialDiskPotential', 'MWPotential', 'MWPotential2014', 'MiyamotoNagaiPotential', 'MovingObjectPotential', 'NFWPotential', 'PerfectEllipsoidPotential', 'PlummerPotential', 'Potential', 'PotentialError', 'PowerSphericalPotential', 'PowerSphericalPotentialwCutoff', 'PseudoIsothermalPotential', 'RZToplanarPotential', 'RZToverticalPotential', 'RazorThinExponentialDiskPotential', 'RingPotential', 'SCFPotential', 'SnapshotRZPotential', 'SoftenedNeedleBarPotential', 'SolidBodyRotationWrapperPotential', 'SphericalShellPotential', 'SpiralArmsPotential', 'SteadyLogSpiralPotential', 'TransientLogSpiralPotential', 'TriaxialHernquistPotential', 'TriaxialJaffePotential', 'TriaxialNFWPotential', 'TwoPowerSphericalPotential', 'TwoPowerTriaxialPotential', 'WrapperPotential', 'evaluatePotentials', 'evaluatelinearPotentials', 'evaluateplanarPotentials', 'interpRZPotential', 'linearPotential', 'planarAxiPotential', 'planarPotential', 'plotPotentials', 'plotlinearPotentials', 'plotplanarPotentials', 'toPlanarPotential', 'verticalPotential']\n"
     ]
    }
   ],
   "source": [
    ">>> import galpy.potential\n",
    ">>> print([p for p in dir(galpy.potential) if 'Potential' in p])"
   ]
  },
  {
   "cell_type": "code",
   "execution_count": null,
   "metadata": {
    "collapsed": true
   },
   "outputs": [],
   "source": []
  }
 ],
 "metadata": {
  "kernelspec": {
   "display_name": "Python 2",
   "language": "python",
   "name": "python2"
  },
  "language_info": {
   "codemirror_mode": {
    "name": "ipython",
    "version": 2
   },
   "file_extension": ".py",
   "mimetype": "text/x-python",
   "name": "python",
   "nbconvert_exporter": "python",
   "pygments_lexer": "ipython2",
   "version": "2.7.6"
  }
 },
 "nbformat": 4,
 "nbformat_minor": 2
}
