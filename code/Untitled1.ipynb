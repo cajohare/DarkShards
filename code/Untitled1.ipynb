{
 "cells": [
  {
   "cell_type": "code",
   "execution_count": 381,
   "metadata": {},
   "outputs": [],
   "source": [
    "from numpy import *\n",
    "from numpy.random import *\n",
    "import pandas\n",
    "\n",
    "df1 = pandas.read_csv('../data/FitShards_red.csv')\n"
   ]
  },
  {
   "cell_type": "code",
   "execution_count": 436,
   "metadata": {
    "scrolled": true
   },
   "outputs": [
    {
     "name": "stdout",
     "output_type": "stream",
     "text": [
      "S1 32 [24.08451821 20.70153012 20.77037263] [22.97969472 18.7639383  21.71683276]\n",
      "S2 12 [22.88752408 16.83118299 17.7834437 ] [20.11486846 14.27556033 22.31402599]\n",
      "S2 59 [19.35884471 18.88549926 19.23238837] [18.13998477 12.66288948 15.24654799]\n",
      "Rg2 13 [37.98073797 43.51441165 32.28759965] [30.29172209 40.32186473 24.53972229]\n",
      "Rg5 14 [21.17519307 16.35587394 17.52064397] [18.34342965 17.2794183  13.05939164]\n",
      "Rg5 15 [15.08853231 17.31413185 19.52841915] [11.19666236 13.45725965 15.04227178]\n",
      "Rg6 17 [27.1349906  18.22128259 31.35689797] [33.96564847 15.28076123 17.65657048]\n",
      "Rg6 12 [24.54532497 31.61947848 27.03034406] [16.69729938 23.95921429 16.78066619]\n",
      "Rg7 5 [29.15849438 50.39665753 45.35645968] [28.92671619 48.46423042 27.28585981]\n",
      "Rg7 9 [38.9979411  26.85600551 43.84973502] [24.86945803  7.41929948 34.84733633]\n",
      "Cand8 31 [32.06536757 25.16478394 28.69256072] [27.90476612 20.75580994 27.7251967 ]\n",
      "Cand8 18 [26.93215139 28.08695836 19.3563363 ] [21.0820848  29.66897803 11.20896695]\n",
      "Cand9 43 [25.88133931 25.00262284 20.69844538] [19.44140449 18.35272218 10.88274129]\n",
      "Cand10 38 [21.53308343 20.40905871 14.502603  ] [21.1785289  16.84081803 10.54416296]\n",
      "Cand11 14 [23.97868771 31.93073771 26.03408642] [18.556069   18.71484896 25.20125343]\n",
      "Cand11 23 [34.31602143 32.36837141 25.99404959] [26.22486467 18.89876163 20.00264109]\n",
      "Cand12 36 [34.87561999 37.57419771 48.49087815] [28.72717658 25.92869192 45.03290984]\n",
      "Cand13 36 [30.47650146 35.38527322 43.41318977] [26.33626563 21.68877877 33.13426989]\n",
      "Cand14 24 [41.35226907 38.45597407 33.08289841] [33.43955874 29.11086131 25.8752969 ]\n",
      "Cand14 12 [35.18579849 30.6971429  35.32071668] [36.11866175 31.43278186 23.17793206]\n",
      "Cand15 12 [32.30612186 40.63977215 27.10311468] [27.04093357 38.73949803 23.30725975]\n",
      "Cand15 7 [20.36646702 30.13794212 39.3189539 ] [15.79638335 22.677164   29.30219742]\n",
      "Cand16 12 [28.24898558 28.34304947 33.5715315 ] [24.40251215 26.32342738 26.7977383 ]\n",
      "Cand16 5 [23.51890366 17.94147817 32.91234319] [27.29845161 14.72572762 18.54745034]\n",
      "Cand17 10 [34.16488625 32.76811264 31.12341068] [31.63006646 29.81907059 28.80206792]\n",
      "NCand0 19 [27.02178561 22.03499084 27.8886062 ] [23.34447207 21.09227416 28.08370662]\n",
      "NCand2 13 [28.70494351 17.48795829 34.19167474] [29.19918644 18.82161847 24.45271394]\n",
      "NCand2 22 [33.39289322 41.72002444 25.32960482] [32.00544194 27.02836032 23.27583967]\n",
      "NCand3 9 [33.35107065 14.45621149 19.99502485] [19.56235038  7.00696626  7.79874195]\n",
      "NCand6 11 [19.93507991 11.88583142 15.11503601] [10.90379566  9.98744595 10.6669912 ]\n",
      "NCand6 10 [14.73162091 14.25185304 18.6555673 ] [11.80233763 13.09934828 12.12792802]\n",
      "NCand7 11 [26.19576378 38.21666939 24.760388  ] [17.04748789 33.3216618  28.96862729]\n",
      "NCand8 7 [21.51736898 27.28618196 24.80926298] [ 9.36061401 26.16326942 24.8498711 ]\n",
      "NCand9 9 [13.45273822 11.32779424 16.97015227] [11.16668595 11.36597166 18.22676327]\n",
      "NCand9 13 [21.42545113 22.05016043 19.36511841] [22.95426176 18.61216945 15.4344555 ]\n",
      "NCand10 23 [20.29269592 17.37132188 28.36151929] [16.22906838 17.05722175 21.18829252]\n",
      "NCand10 13 [29.70197945 31.94204609 42.46851883] [27.24890533 26.41780162 27.597486  ]\n",
      "NCand11 20 [37.10416254 33.42923955 32.75421055] [37.55157508 32.29302099 27.66699754]\n",
      "NCand12 18 [40.32142316 23.98208391 35.93623572] [29.02266223 23.4460885  34.42238478]\n",
      "NCand13 12 [15.81378079 17.11005167 15.48410255] [ 9.28875723 15.11809586  9.13024536]\n",
      "NCand13 17 [18.40679446 23.04818651 15.5392771 ] [18.1045392  19.19891569 12.44743136]\n",
      "NCand16 5 [39.18332632 35.02016248 24.78098227] [34.08006494 38.21490619 14.44682172]\n",
      "NCand17 15 [27.34077952 28.80498985 29.97067163] [25.184482   26.46814887 30.59244959]\n",
      "NCand18 11 [18.89320054 21.74081287 18.89032463] [12.26642868 21.80994433 18.98950501]\n",
      "NCand19 13 [18.55741134 27.7911419  31.63788894] [12.94985021 27.1964273  31.37308885]\n",
      "NCand19 10 [25.04889447 16.59289877 20.10473409] [26.64606821 10.67475389 18.4190409 ]\n",
      "NCand20 9 [26.15073139 30.22222505 18.63245372] [13.99633861 17.75335846 18.22932433]\n",
      "NCand21 15 [38.73305942 31.87245598 33.07773591] [36.49844068 25.28328854 29.03570878]\n",
      "NCand21 11 [29.02274061 23.79024321 28.1192063 ] [27.23594377 25.9613971  26.03843684]\n",
      "NCand22 20 [24.59149043 35.90222823 36.84419923] [24.94236024 32.5613146  34.55191835]\n",
      "NCand23 8 [32.06432892 25.19605614  9.45316105] [32.65762913 23.03986292 17.55905482]\n",
      "NCand24 7 [17.59911932 25.83437575 13.74257969] [ 7.46798619 20.60398114  6.65825884]\n",
      "NCand24 8 [21.23888668 17.88611346 15.09108565] [13.40866696 15.96016522 14.14323003]\n",
      "NCand25 8 [40.9530663  18.16062326 32.31488265] [24.4015576  17.50332315 25.8660323 ]\n",
      "NCand26 7 [32.57163796 35.50621343 42.06521456] [23.0495462  21.85037291 25.1457008 ]\n",
      "NCand27 17 [18.9835802  20.10370215 18.89077556] [12.68484317 19.56062061 15.35842583]\n",
      "NCand28 12 [35.07657628 30.51050889 30.14018928] [32.47370404 26.44799277 25.14380137]\n",
      "NCand28 8 [36.35234975 34.83797062 15.76902726] [24.59397021 30.27697701 16.50451726]\n",
      "NCand29 14 [28.59640102 24.97417228 32.47396675] [25.80187797 21.86668816 28.86044613]\n"
     ]
    }
   ],
   "source": [
    "from numpy import random\n",
    "\n",
    "v_err = zeros(shape=(df1.shape[0],3))\n",
    "sig_err = zeros(shape=(df1.shape[0],3))\n",
    "\n",
    "for i in range(df1.shape[0]):\n",
    "    name = df1.group_id[i]\n",
    "    \n",
    "    if name.endswith('a') or name.endswith('b'):\n",
    "        name = name[0:-1]\n",
    "\n",
    "    Cand = df.loc[df['group_id'] == name]\n",
    "    Cand = Cand.reset_index()\n",
    "    pop = int(df1.population[i])\n",
    "    \n",
    "    vx = Cand.GalRVel\n",
    "    vy = Cand.GalTVel\n",
    "    vz = Cand.GalzVel\n",
    "    \n",
    "    vdist = sqrt((Cand.GalRVel-df1.vx[i])**2.0+(Cand.GalTVel-df1.vy[i])**2.0+(Cand.GalzVel-df1.vz[i])**2.0)\n",
    "    isort = argsort(vdist).values\n",
    "    vx = Cand.GalRVel[isort]\n",
    "    vy = Cand.GalTVel[isort]\n",
    "    vz = Cand.GalzVel[isort]\n",
    "    vx = vx[0:pop]\n",
    "    vy = vy[0:pop]\n",
    "    vz = vz[0:pop]\n",
    "    \n",
    "    #typical_error = 5.18*Cand.helio_dist[0:pop]/1000\n",
    "    typical_error = 6.0*Cand.helio_dist[0:pop]/1000\n",
    "    std_typical_error = 0.7*typical_error\n",
    "    vx_errs = random.normal(loc=typical_error,scale=std_typical_error)\n",
    "    vy_errs = random.normal(loc=typical_error,scale=std_typical_error)\n",
    "    vz_errs = random.normal(loc=typical_error,scale=std_typical_error)\n",
    "    \n",
    "    vx_err = sum(vx_errs)/pop\n",
    "    vy_err = sum(vy_errs)/pop\n",
    "    vz_err = sum(vz_errs)/pop\n",
    "    sigx_err = sum(vx_errs*(abs(vx-mean(vx))/std(vx)))/pop\n",
    "    sigy_err = sum(vy_errs*(abs(vy-mean(vy))/std(vy)))/pop\n",
    "    sigz_err = sum(vz_errs*(abs(vz-mean(vz))/std(vz)))/pop\n",
    "\n",
    "    v_err[i,:] = array([vx_err,vy_err,vz_err])\n",
    "    sig_err[i,:] = array([sigx_err,sigy_err,sigz_err])\n",
    "    print(name,pop,v_err[i,:],sig_err[i,:])\n",
    "    "
   ]
  },
  {
   "cell_type": "code",
   "execution_count": 437,
   "metadata": {},
   "outputs": [],
   "source": [
    "df1['vx_err'] = v_err[:,0]\n",
    "df1['vy_err'] = v_err[:,1]\n",
    "df1['vz_err'] = v_err[:,2]\n",
    "df1['sigx_err'] = sig_err[:,0]\n",
    "df1['sigy_err'] = sig_err[:,1]\n",
    "df1['sigz_err'] = sig_err[:,2]"
   ]
  },
  {
   "cell_type": "code",
   "execution_count": 438,
   "metadata": {},
   "outputs": [],
   "source": [
    "df1.to_csv('../data/FitShards_red.csv')"
   ]
  },
  {
   "cell_type": "code",
   "execution_count": 164,
   "metadata": {},
   "outputs": [],
   "source": [
    "from numpy import random\n",
    "i = 0\n",
    "name = df1.group_id[i]\n",
    "\n",
    "if name.endswith('a') or name.endswith('b'):\n",
    "    name = name[0:-1]\n",
    "\n",
    "Cand = df.loc[df['group_id'] == name]\n",
    "mean_error = 3.18*Cand.helio_dist/1000\n",
    "\n",
    "typical_error = 3.18*Cand.helio_dist/1000\n",
    "vx_err = random.normal(loc=typical_error,scale=0.7*typical_error)\n",
    "vy_err = random.normal(loc=typical_error,scale=0.7*typical_error)\n",
    "vz_err = random.normal(loc=typical_error,scale=0.7*typical_error)\n",
    "v_err = array([(mean(vx_err),mean(vy_err),mean(vz_err))])\n",
    "sig_err = array([(std(vx_err),std(vy_err),std(vz_err))])\n",
    "print(name,pop,v_err,sig_err)"
   ]
  },
  {
   "cell_type": "code",
   "execution_count": 167,
   "metadata": {},
   "outputs": [
    {
     "name": "stdout",
     "output_type": "stream",
     "text": [
      "S1 14 [[10.99606415 13.38924092 11.34684222]] [[11.55526383 14.36543389 15.13492137]]\n"
     ]
    }
   ],
   "source": [
    "v_err = array([(mean(vx_err),mean(vy_err),mean(vz_err))])\n",
    "sig_err = array([(std(vx_err),std(vy_err),std(vz_err))])\n",
    "print(name,pop,v_err,sig_err)"
   ]
  },
  {
   "cell_type": "code",
   "execution_count": 99,
   "metadata": {},
   "outputs": [],
   "source": [
    "# Load all stars\n",
    "df = pandas.read_csv('../data/GAIA_SDSS_Shards.csv')\n",
    "names = df.group_id.unique()\n",
    "num_cands = size(names)"
   ]
  },
  {
   "cell_type": "code",
   "execution_count": 166,
   "metadata": {},
   "outputs": [
    {
     "ename": "NameError",
     "evalue": "name 'namei' is not defined",
     "output_type": "error",
     "traceback": [
      "\u001b[0;31m---------------------------------------------------------------------------\u001b[0m",
      "\u001b[0;31mNameError\u001b[0m                                 Traceback (most recent call last)",
      "\u001b[0;32m<ipython-input-166-f1679819bd05>\u001b[0m in \u001b[0;36m<module>\u001b[0;34m\u001b[0m\n\u001b[0;32m----> 1\u001b[0;31m \u001b[0;32mif\u001b[0m \u001b[0mnamei\u001b[0m\u001b[0;34m.\u001b[0m\u001b[0mendswith\u001b[0m\u001b[0;34m(\u001b[0m\u001b[0;34m'a'\u001b[0m\u001b[0;34m)\u001b[0m \u001b[0;32mor\u001b[0m \u001b[0mnamei\u001b[0m\u001b[0;34m.\u001b[0m\u001b[0mendswith\u001b[0m\u001b[0;34m(\u001b[0m\u001b[0;34m'b'\u001b[0m\u001b[0;34m)\u001b[0m\u001b[0;34m:\u001b[0m\u001b[0;34m\u001b[0m\u001b[0;34m\u001b[0m\u001b[0m\n\u001b[0m\u001b[1;32m      2\u001b[0m     \u001b[0mname\u001b[0m \u001b[0;34m=\u001b[0m \u001b[0mname\u001b[0m\u001b[0;34m[\u001b[0m\u001b[0;36m0\u001b[0m\u001b[0;34m:\u001b[0m\u001b[0;34m-\u001b[0m\u001b[0;36m1\u001b[0m\u001b[0;34m]\u001b[0m\u001b[0;34m\u001b[0m\u001b[0;34m\u001b[0m\u001b[0m\n\u001b[1;32m      3\u001b[0m \u001b[0;34m\u001b[0m\u001b[0m\n\u001b[1;32m      4\u001b[0m \u001b[0mCand\u001b[0m \u001b[0;34m=\u001b[0m \u001b[0mdf\u001b[0m\u001b[0;34m.\u001b[0m\u001b[0mloc\u001b[0m\u001b[0;34m[\u001b[0m\u001b[0mdf\u001b[0m\u001b[0;34m[\u001b[0m\u001b[0;34m'group_id'\u001b[0m\u001b[0;34m]\u001b[0m \u001b[0;34m==\u001b[0m \u001b[0mname_i\u001b[0m\u001b[0;34m]\u001b[0m\u001b[0;34m\u001b[0m\u001b[0;34m\u001b[0m\u001b[0m\n\u001b[1;32m      5\u001b[0m \u001b[0mmean_err\u001b[0m \u001b[0;34m=\u001b[0m \u001b[0mmean\u001b[0m\u001b[0;34m(\u001b[0m\u001b[0;36m3.18\u001b[0m\u001b[0;34m*\u001b[0m\u001b[0mCand\u001b[0m\u001b[0;34m.\u001b[0m\u001b[0mhelio_dist\u001b[0m\u001b[0;34m/\u001b[0m\u001b[0;36m1000\u001b[0m\u001b[0;34m)\u001b[0m\u001b[0;34m\u001b[0m\u001b[0;34m\u001b[0m\u001b[0m\n",
      "\u001b[0;31mNameError\u001b[0m: name 'namei' is not defined"
     ]
    }
   ],
   "source": [
    "if namei.endswith('a') or namei.endswith('b'):\n",
    "    name = name[0:-1]\n",
    "\n",
    "Cand = df.loc[df['group_id'] == name_i]\n",
    "mean_err = mean(3.18*Cand.helio_dist/1000)\n",
    "std_err = 2*std((3.18*Cand.helio_dist/1000))\n",
    "\n",
    "vx_err = sqrt(sum((std_err*randn(pop)+mean_err)**2.0)/pop)\n",
    "vy_err = sqrt(sum((std_err*randn(pop)+mean_err)**2.0)/pop)\n",
    "vz_err = sqrt(sum((std_err*randn(pop)+mean_err)**2.0)/pop)\n",
    "v_err = array([vx_err,vy_err,vz_err])\n",
    "print(name,pop,v_err,sig_err)"
   ]
  },
  {
   "cell_type": "code",
   "execution_count": 182,
   "metadata": {},
   "outputs": [
    {
     "name": "stdout",
     "output_type": "stream",
     "text": [
      "-206.299621271318 -148.76623430373584 -108.1591\n"
     ]
    }
   ],
   "source": [
    "df2 =  pandas.read_csv('../data/SDSS_Gaia_GDR2_pm_S1S2_cleaned.csv')\n",
    "\n",
    "d = df2.helio_dist/1000\n",
    "pmra = df2.pmra\n",
    "pmdec = df2.pmdec\n",
    "vra = pmra*4.74*d\n",
    "vdec = pmdec*4.74*d\n",
    "rv = df2.hrv\n",
    "\n",
    "vra_err = pmra_error*4.74*d\n",
    "\n",
    "print(vra[i],vdec[i],rv[i])"
   ]
  },
  {
   "cell_type": "code",
   "execution_count": 183,
   "metadata": {},
   "outputs": [
    {
     "data": {
      "text/plain": [
       "Index(['group_id', 'source_id', 'ra', 'ra_error', 'dec', 'dec_error',\n",
       "       'parallax', 'parallax_error', 'pmra', 'pmra_error', 'pmdec',\n",
       "       'pmdec_error', 'phot_g_mean_mag', 'phot_bp_mean_mag',\n",
       "       'phot_rp_mean_mag', 'bp_rp', 'l', 'b', 'hrv', 'hrv_e', 'logg', 'logg_e',\n",
       "       'teff', 'teff_e', 'feh', 'feh_e', 'helio_dist', 'Galdist', 'GalRecX',\n",
       "       'GalRecY', 'GalRecZ', 'GalU', 'GalV', 'GalW', 'GalRVel', 'GalTVel',\n",
       "       'GalzVel', 'GalSphrVel', 'GalSphphiVel', 'GalSphithetaVel'],\n",
       "      dtype='object')"
      ]
     },
     "execution_count": 183,
     "metadata": {},
     "output_type": "execute_result"
    }
   ],
   "source": [
    "df2.columns"
   ]
  },
  {
   "cell_type": "code",
   "execution_count": 356,
   "metadata": {},
   "outputs": [],
   "source": [
    "from astropy.coordinates import SkyCoord\n",
    "import astropy.units as u\n",
    "\n",
    "\n",
    "df2 =  Table.read('../data/SDSS_Gaia_GDR2_pm_S1S2_cleaned.csv')\n",
    "\n",
    "nstars = shape(df2)[0]\n",
    "\n",
    "verr = zeros(shape=(nstars,3))\n",
    "vmean = zeros(shape=(nstars,3))\n",
    "\n",
    "for i in range(0,nstars):\n",
    "\n",
    "    ngen = 500000\n",
    "\n",
    "    ra = u.deg*df2['ra'][i]*ones(shape=ngen)\n",
    "    dec = u.deg*df2['dec'][i]*ones(shape=ngen)\n",
    "    dist = u.pc*(df2['helio_dist'][i]+0.1*df2['helio_dist'][i]*randn(ngen))\n",
    "    pmra = u.mas/u.yr*(df2['pmra'][i]+df2['pmra_error'][i]*randn(ngen))\n",
    "    pmdec = u.mas/u.yr*(df2['pmdec'][i]+df2['pmdec_error'][i]*randn(ngen))\n",
    "    rv = u.km/u.s*((df2['hrv'][i]+df2['hrv_e'][i]*randn(ngen)))\n",
    "\n",
    "\n",
    "    c = SkyCoord(ra=ra,dec=dec,pm_ra_cosdec=pmra,pm_dec=pmdec,distance=dist,radial_velocity=rv)\n",
    "\n",
    "    # Transform to galactocentric\n",
    "    v0 = 238.0\n",
    "    v_pec = SHM.PeculiarVelocity\n",
    "    v_sun = coord.CartesianDifferential((v_pec + v0*array([0,1,0]))*u.km/u.s)\n",
    "    gc_frame = coord.Galactocentric(galcen_distance=8.1*u.kpc,\n",
    "                                    galcen_v_sun=v_sun,\n",
    "                                    z_sun=25.0*u.pc)\n",
    "    galcen = c.transform_to(gc_frame)\n",
    "\n",
    "    # Rectangular coords\n",
    "    v_x = galcen.v_x\n",
    "    v_y = galcen.v_y\n",
    "    v_z = galcen.v_z\n",
    "    # Get cylindrical coords.\n",
    "    galcen.representation_type = 'cylindrical'\n",
    "    vR = galcen.d_rho.to(u.km/u.s).value\n",
    "    vT = -1*galcen.d_phi.to(u.mas/u.yr).value*4.74047*galcen.rho.to(u.kpc).value\n",
    "    vz = galcen.d_z.to(u.km/u.s).value\n",
    "    \n",
    "    verr[i,:] = array([std(vR),std(vT),std(vz)])\n",
    "    vmean[i,:] = array([mean(vR),mean(vT),mean(vz)])\n"
   ]
  },
  {
   "cell_type": "code",
   "execution_count": 425,
   "metadata": {},
   "outputs": [
    {
     "data": {
      "text/plain": [
       "(array([10., 10., 16., 15.,  8.,  6.,  9.,  4.,  2.,  2.]),\n",
       " array([ 2.45716365,  5.37416942,  8.29117519, 11.20818095, 14.12518672,\n",
       "        17.04219249, 19.95919826, 22.87620403, 25.79320979, 28.71021556,\n",
       "        31.62722133]),\n",
       " <a list of 10 Patch objects>)"
      ]
     },
     "execution_count": 425,
     "metadata": {},
     "output_type": "execute_result"
    },
    {
     "data": {
      "image/png": "[encoded data removed]",
      "text/plain": [
       "<Figure size 432x288 with 1 Axes>"
      ]
     },
     "metadata": {
      "needs_background": "light"
     },
     "output_type": "display_data"
    }
   ],
   "source": [
    "plt.hist(verr[:,0])\n",
    "plt.hist(verr[:,1])\n",
    "plt.hist(verr[:,2])"
   ]
  },
  {
   "cell_type": "code",
   "execution_count": 373,
   "metadata": {},
   "outputs": [
    {
     "name": "stdout",
     "output_type": "stream",
     "text": [
      "10.817549515303007 6.229111213418077\n",
      "22.926442992193863 15.745352945744253\n",
      "13.18922694640701 6.806987256512271\n"
     ]
    }
   ],
   "source": [
    "print(mean(verr[:,0]),std(verr[:,0]))\n",
    "print(mean(verr[:,1]),std(verr[:,1]))\n",
    "print(mean(verr[:,2]),std(verr[:,2]))"
   ]
  },
  {
   "cell_type": "code",
   "execution_count": 428,
   "metadata": {},
   "outputs": [
    {
     "data": {
      "text/plain": [
       "[<matplotlib.lines.Line2D at 0x7f7ea0c755d0>]"
      ]
     },
     "execution_count": 428,
     "metadata": {},
     "output_type": "execute_result"
    },
    {
     "data": {
      "image/png": "[encoded data removed]",
      "text/plain": [
       "<Figure size 432x288 with 1 Axes>"
      ]
     },
     "metadata": {
      "needs_background": "light"
     },
     "output_type": "display_data"
    }
   ],
   "source": [
    "plt.plot(df2['helio_dist']/1000,verr[:,0],'.')\n",
    "plt.plot(df2['helio_dist']/1000,verr[:,1],'.')\n",
    "plt.plot(df2['helio_dist']/1000,verr[:,2],'.')\n",
    "\n",
    "# dvals = linspace(0,30,100)\n",
    "# plt.plot(verr_vals,verr_vals*)"
   ]
  },
  {
   "cell_type": "code",
   "execution_count": 215,
   "metadata": {},
   "outputs": [],
   "source": [
    "# Get cylindrical coords.\n",
    "galcen.representation_type = 'cylindrical'\n",
    "vR = galcen.d_rho.to(u.km/u.s).value\n",
    "vT = -1*galcen.d_phi.to(u.mas/u.yr).value*4.74047*galcen.rho.to(u.kpc).value\n",
    "vz = galcen.d_z.to(u.km/u.s).value\n"
   ]
  },
  {
   "cell_type": "code",
   "execution_count": 291,
   "metadata": {},
   "outputs": [
    {
     "name": "stdout",
     "output_type": "stream",
     "text": [
      "/Users/ciaranohare/Data/StarHorse/part14.fits\n",
      "group_id      source_id              ra         ...   RGal          ruwe       \n",
      "-------- ------------------- ------------------ ... -------- ------------------\n",
      "      S1 1475481696090722944 202.36041768252684 ... 8.258289 1.0709478990566048\n",
      "      S2 3927214676946595968  190.8429561276181 ... 7.844441 1.0246655075187867\n",
      "/Users/ciaranohare/Data/StarHorse/part02.fits\n",
      "group_id      source_id              ra         ...   RGal          ruwe       \n",
      "-------- ------------------- ------------------ ... -------- ------------------\n",
      "      S1 1659763693196474624 214.15566734228747 ... 8.470605 0.9937184199261878\n",
      "      S1 3891169559051699328  180.1827343051461 ... 8.306817 1.0017023414097626\n",
      "/Users/ciaranohare/Data/StarHorse/part03.fits\n",
      "group_id      source_id              ra         ...   RGal          ruwe       \n",
      "-------- ------------------- ------------------ ... -------- ------------------\n",
      "      S2 1465018949599024000 193.32048037965268 ... 8.251668 1.0399114150971378\n",
      "/Users/ciaranohare/Data/StarHorse/part15.fits\n",
      "group_id      source_id              ra         ...    RGal          ruwe       \n",
      "-------- ------------------- ------------------ ... --------- ------------------\n",
      "      S2  126369654519654272  39.87138933950507 ...  9.224302 1.0216143932581045\n",
      "      S2  832867070059358080 165.80608170249218 ... 11.064599  1.014147343877043\n",
      "      S1 1579707800606079872 192.27273041885658 ... 10.159441 1.1704066493494452\n",
      "      S2 2749544368188368640  8.090942779164044 ...  9.413128 0.9461636917815373\n",
      "/Users/ciaranohare/Data/StarHorse/part08.fits\n",
      "group_id      source_id              ra         ...   RGal          ruwe       \n",
      "-------- ------------------- ------------------ ... -------- ------------------\n",
      "      S2  690133560079137920 133.25632481150606 ... 9.203912  1.048454240873886\n",
      "      S1 1464117728021034112 193.81018016088925 ... 8.229057 1.0142304240466216\n",
      "      S1 3745481893253438080   204.590081176849 ...   7.0285 0.9966909717340632\n",
      "/Users/ciaranohare/Data/StarHorse/part12.fits\n",
      "group_id     source_id              ra         ...   RGal          ruwe      \n",
      "-------- ------------------ ------------------ ... -------- -----------------\n",
      "      S2 680735037764135808 122.13912520439344 ... 8.924507 1.061689140742253\n",
      "/Users/ciaranohare/Data/StarHorse/part04.fits\n",
      "group_id      source_id              ra        ...   RGal          ruwe       \n",
      "-------- ------------------- ----------------- ... -------- ------------------\n",
      "      S1 1672356670451552640 203.6705336662536 ... 8.774065 1.0386831240507315\n",
      "      S2 2518385517465704960 31.72384677424425 ... 8.811169 1.0501230397125914\n",
      "/Users/ciaranohare/Data/StarHorse/part05.fits\n",
      "group_id      source_id              ra         ...    RGal          ruwe       \n",
      "-------- ------------------- ------------------ ... --------- ------------------\n",
      "      S2  639320729712164480 139.49862077798485 ...  9.891789 0.9822514732774216\n",
      "      S2 2543922018619120000  6.582625611842244 ...  8.539553 1.0723854447166008\n",
      "      S2 3230161653972499584  71.25600601621431 ...   9.30807 0.9943950031552823\n",
      "      S2 3809914408512358400  163.3435761087899 ...  9.208502 0.9759614959706335\n",
      "      S2 4571481860361773824 255.89605460797603 ... 7.4165564 0.9815828687744542\n",
      "/Users/ciaranohare/Data/StarHorse/part13.fits\n",
      "group_id      source_id              ra         ...   RGal          ruwe       \n",
      "-------- ------------------- ------------------ ... -------- ------------------\n",
      "      S2  814087862430876160  142.4193496506763 ... 8.775179 1.0365962388401695\n",
      "      S1 1536866841857992320 181.48049345434487 ... 9.179453 1.0398356708689551\n",
      "/Users/ciaranohare/Data/StarHorse/part09.fits\n",
      "group_id      source_id              ra         ...    RGal          ruwe       \n",
      "-------- ------------------- ------------------ ... --------- ------------------\n",
      "      S1 1296820363769988864 224.67153721622643 ... 7.6168437   0.98246865377767\n",
      "      S2 2437105456116952960  352.4844338172931 ... 7.8348866 0.9579500153378234\n",
      "      S2 2777983030282265472 11.980442994303935 ...  9.564656 1.0059815495574778\n",
      "      S2 3810760040328898688 171.10836071386714 ...  8.733693 0.9411268472953304\n",
      "/Users/ciaranohare/Data/StarHorse/part06.fits\n",
      "group_id      source_id              ra         ...   RGal          ruwe       \n",
      "-------- ------------------- ------------------ ... -------- ------------------\n",
      "      S2 2444574580339507840 1.7723888642228836 ... 8.602713 1.0607989346450086\n",
      "      S2 2500801126786493952 36.160843002592934 ... 8.979761  0.922895270750883\n",
      "      S1 3956546687941565440 194.12257495744046 ... 8.089062 1.0581701265293857\n",
      "/Users/ciaranohare/Data/StarHorse/part10.fits\n",
      "group_id      source_id              ra         ...    RGal          ruwe       \n",
      "-------- ------------------- ------------------ ... --------- ------------------\n",
      "      S2 2776361869106548992  11.25384547996185 ...  8.835081 0.9831363544004476\n",
      "      S2 3683407422414625024 191.08777485381242 ... 7.7971773 0.9993579458008872\n",
      "      S2 4022291161090693888  173.0958292343576 ...  8.617454  1.048745830909479\n",
      "/Users/ciaranohare/Data/StarHorse/part11.fits\n",
      "group_id      source_id              ra         ...    RGal          ruwe       \n",
      "-------- ------------------- ------------------ ... --------- ------------------\n",
      "      S1  755693040395736320  156.5473898521133 ... 11.178922  0.993818733370957\n",
      "      S2 2444662193376545920 1.1548761742511775 ...  8.252103 1.0799545069117074\n",
      "/Users/ciaranohare/Data/StarHorse/part07.fits\n",
      "group_id      source_id              ra         ...    RGal          ruwe       \n",
      "-------- ------------------- ------------------ ... --------- ------------------\n",
      "      S2  683161934804573440 124.22843978195215 ...  9.042479 1.1121001514186002\n",
      "      S2 1289570016596552832 222.84392026099246 ...  7.157005 1.2061960972002208\n",
      "      S1 1512905189249855488 211.63506945276714 ... 9.0609865 1.0922654795638806\n",
      "      S2 2509338422259883392 27.244391310492894 ...  8.865073 0.9364998777748724\n",
      "/Users/ciaranohare/Data/StarHorse/part00.fits\n",
      "group_id      source_id              ra         ...   RGal          ruwe       \n",
      "-------- ------------------- ------------------ ... -------- ------------------\n",
      "      S2 2781151719714308352 12.416670620271175 ... 8.817153 1.0421861721393642\n",
      "      S2 3951004775676289920 181.93721314194408 ... 8.621466 0.9887875664192064\n",
      "/Users/ciaranohare/Data/StarHorse/part01.fits\n",
      "group_id      source_id              ra         ...   RGal          ruwe       \n",
      "-------- ------------------- ------------------ ... -------- ------------------\n",
      "      S1 1485022364643631232  214.8909232051149 ... 8.058029 1.0447196643787142\n",
      "      S1 1594524720518626048 232.62491538520888 ... 8.122246 1.0502834372076115\n",
      "      S2 2536119712308947712 15.503480010392297 ... 8.682175 0.9311259358542718\n",
      "      S2 3264235244438051840 52.720737463512506 ... 8.953685 0.9754621053965083\n"
     ]
    }
   ],
   "source": [
    "import os\n",
    "from astropy.table import join\n",
    "import glob\n",
    "df2 =  Table.read('../data/SDSS_Gaia_GDR2_pm_S1S2_cleaned.csv')\n",
    "df2['dist'] = 0.0\n",
    "df2['dist_error'] = 0.0\n",
    "    \n",
    "SH_dir = os.path.expanduser(\"~/Data/StarHorse/\")\n",
    "for dirc in glob.glob(SH_dir+'*.fits'):\n",
    "    SH = Table.read(dirc)\n",
    "    \n",
    "    tab = join(df2,SH,keys='source_id')\n",
    "    if shape(tab)[0]>0:\n",
    "        for i in range(0,shape(tab)[0]):\n",
    "            mask = df2['source_id']==tab['source_id'][i]\n",
    "            df2['dist'][mask] = tab['dist50'][i]\n",
    "            df2['dist_error'][mask] = 0.5*((tab['dist50'][i]-tab['dist16'][i])+(tab['dist84'][i]-tab['dist16'][i]))\n",
    "    print(dirc)\n",
    "    print(tab)"
   ]
  },
  {
   "cell_type": "code",
   "execution_count": 303,
   "metadata": {},
   "outputs": [],
   "source": [
    "df2.write('../data/SDSS_Gaia_GDR2_pm_S1S2_cleaned.csv',overwrite=True)"
   ]
  },
  {
   "cell_type": "code",
   "execution_count": 298,
   "metadata": {},
   "outputs": [
    {
     "name": "stderr",
     "output_type": "stream",
     "text": [
      "/opt/anaconda3/lib/python3.7/site-packages/ipykernel_launcher.py:2: RuntimeWarning: invalid value encountered in true_divide\n",
      "  \n"
     ]
    },
    {
     "data": {
      "text/plain": [
       "(array([4., 2., 2., 2., 3., 3., 5., 3., 0., 0., 0., 0., 0., 7., 2., 4., 2.,\n",
       "        3., 1., 1.]),\n",
       " array([0.09253199, 0.11522953, 0.13792707, 0.16062462, 0.18332216,\n",
       "        0.2060197 , 0.22871724, 0.25141478, 0.27411232, 0.29680986,\n",
       "        0.3195074 , 0.34220495, 0.36490249, 0.38760003, 0.41029757,\n",
       "        0.43299511, 0.45569265, 0.47839019, 0.50108773, 0.52378527,\n",
       "        0.54648282]),\n",
       " <a list of 20 Patch objects>)"
      ]
     },
     "execution_count": 298,
     "metadata": {},
     "output_type": "execute_result"
    },
    {
     "data": {
      "image/png": "[encoded data removed]",
      "text/plain": [
       "<Figure size 432x288 with 1 Axes>"
      ]
     },
     "metadata": {
      "needs_background": "light"
     },
     "output_type": "display_data"
    }
   ],
   "source": [
    "import matplotlib.pyplot as plt\n",
    "plt.hist(df2['dist_error']/df2['dist'],20)"
   ]
  },
  {
   "cell_type": "code",
   "execution_count": 301,
   "metadata": {},
   "outputs": [],
   "source": [
    "df2['dist'][mask] = df2['helio_dist'][mask]/1000.0\n",
    "df2['dist_error'][mask] = 0.3*df2['helio_dist'][mask]/1000.0"
   ]
  },
  {
   "cell_type": "code",
   "execution_count": 333,
   "metadata": {},
   "outputs": [
    {
     "data": {
      "text/html": [
       "&lt;Column name=&apos;dist&apos; dtype=&apos;float64&apos; length=82&gt;\n",
       "<table>\n",
       "<tr><td>3.1996347904205322</td></tr>\n",
       "<tr><td>4.610922336578369</td></tr>\n",
       "<tr><td>4.63032350393</td></tr>\n",
       "<tr><td>1.45100736618042</td></tr>\n",
       "<tr><td>5.504973888397217</td></tr>\n",
       "<tr><td>3.16446858861</td></tr>\n",
       "<tr><td>3.16103068812</td></tr>\n",
       "<tr><td>5.578365325927734</td></tr>\n",
       "<tr><td>4.3110957030099994</td></tr>\n",
       "<tr><td>5.079044818878174</td></tr>\n",
       "<tr><td>3.22848490825</td></tr>\n",
       "<tr><td>4.518868446350098</td></tr>\n",
       "<tr><td>...</td></tr>\n",
       "<tr><td>1.3364657163619995</td></tr>\n",
       "<tr><td>1.4937293529510498</td></tr>\n",
       "<tr><td>3.1559367629999997</td></tr>\n",
       "<tr><td>1.3942276239395142</td></tr>\n",
       "<tr><td>3.0484871864318848</td></tr>\n",
       "<tr><td>4.482851505279541</td></tr>\n",
       "<tr><td>1.0328869819641113</td></tr>\n",
       "<tr><td>2.464426040649414</td></tr>\n",
       "<tr><td>5.919162273406982</td></tr>\n",
       "<tr><td>1.331942081451416</td></tr>\n",
       "<tr><td>3.1902443053000002</td></tr>\n",
       "<tr><td>1.4584540128707886</td></tr>\n",
       "</table>"
      ],
      "text/plain": [
       "<Column name='dist' dtype='float64' length=82>\n",
       "3.1996347904205322\n",
       " 4.610922336578369\n",
       "     4.63032350393\n",
       "  1.45100736618042\n",
       " 5.504973888397217\n",
       "     3.16446858861\n",
       "     3.16103068812\n",
       " 5.578365325927734\n",
       "4.3110957030099994\n",
       " 5.079044818878174\n",
       "     3.22848490825\n",
       " 4.518868446350098\n",
       "               ...\n",
       "1.3364657163619995\n",
       "1.4937293529510498\n",
       "3.1559367629999997\n",
       "1.3942276239395142\n",
       "3.0484871864318848\n",
       " 4.482851505279541\n",
       "1.0328869819641113\n",
       " 2.464426040649414\n",
       " 5.919162273406982\n",
       " 1.331942081451416\n",
       "3.1902443053000002\n",
       "1.4584540128707886"
      ]
     },
     "execution_count": 333,
     "metadata": {},
     "output_type": "execute_result"
    }
   ],
   "source": [
    "df2['dist']"
   ]
  },
  {
   "cell_type": "code",
   "execution_count": 334,
   "metadata": {},
   "outputs": [
    {
     "data": {
      "text/html": [
       "&lt;Column name=&apos;helio_dist&apos; dtype=&apos;float64&apos; length=82&gt;\n",
       "<table>\n",
       "<tr><td>3.31676511355</td></tr>\n",
       "<tr><td>2.2066749327900004</td></tr>\n",
       "<tr><td>4.63032350393</td></tr>\n",
       "<tr><td>1.26945080301</td></tr>\n",
       "<tr><td>4.08603677374</td></tr>\n",
       "<tr><td>3.16446858861</td></tr>\n",
       "<tr><td>3.16103068812</td></tr>\n",
       "<tr><td>4.8699710422099995</td></tr>\n",
       "<tr><td>4.3110957030099994</td></tr>\n",
       "<tr><td>3.27176110004</td></tr>\n",
       "<tr><td>3.22848490825</td></tr>\n",
       "<tr><td>3.36017145325</td></tr>\n",
       "<tr><td>...</td></tr>\n",
       "<tr><td>0.8270650798210001</td></tr>\n",
       "<tr><td>1.58176721218</td></tr>\n",
       "<tr><td>3.1559367629999997</td></tr>\n",
       "<tr><td>1.00621234255</td></tr>\n",
       "<tr><td>2.894186515</td></tr>\n",
       "<tr><td>3.58457847277</td></tr>\n",
       "<tr><td>0.828607957177</td></tr>\n",
       "<tr><td>1.9342690920699999</td></tr>\n",
       "<tr><td>3.87939716877</td></tr>\n",
       "<tr><td>1.42532206479</td></tr>\n",
       "<tr><td>3.1902443053000002</td></tr>\n",
       "<tr><td>1.2690804368900002</td></tr>\n",
       "</table>"
      ],
      "text/plain": [
       "<Column name='helio_dist' dtype='float64' length=82>\n",
       "     3.31676511355\n",
       "2.2066749327900004\n",
       "     4.63032350393\n",
       "     1.26945080301\n",
       "     4.08603677374\n",
       "     3.16446858861\n",
       "     3.16103068812\n",
       "4.8699710422099995\n",
       "4.3110957030099994\n",
       "     3.27176110004\n",
       "     3.22848490825\n",
       "     3.36017145325\n",
       "               ...\n",
       "0.8270650798210001\n",
       "     1.58176721218\n",
       "3.1559367629999997\n",
       "     1.00621234255\n",
       "       2.894186515\n",
       "     3.58457847277\n",
       "    0.828607957177\n",
       "1.9342690920699999\n",
       "     3.87939716877\n",
       "     1.42532206479\n",
       "3.1902443053000002\n",
       "1.2690804368900002"
      ]
     },
     "execution_count": 334,
     "metadata": {},
     "output_type": "execute_result"
    }
   ],
   "source": [
    "df2['helio_dist']/1000"
   ]
  },
  {
   "cell_type": "code",
   "execution_count": null,
   "metadata": {},
   "outputs": [],
   "source": []
  }
 ],
 "metadata": {
  "kernelspec": {
   "display_name": "Python 3",
   "language": "python",
   "name": "python3"
  },
  "language_info": {
   "codemirror_mode": {
    "name": "ipython",
    "version": 3
   },
   "file_extension": ".py",
   "mimetype": "text/x-python",
   "name": "python",
   "nbconvert_exporter": "python",
   "pygments_lexer": "ipython3",
   "version": "3.7.6"
  }
 },
 "nbformat": 4,
 "nbformat_minor": 4
}
