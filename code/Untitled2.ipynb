{
 "cells": [
  {
   "cell_type": "code",
   "execution_count": 95,
   "metadata": {},
   "outputs": [
    {
     "name": "stdout",
     "output_type": "stream",
     "text": [
      " 1 component: AIC =  273.43636684 BIC =  274.151340716\n",
      "2 componets: AIC =  215.064769713 BIC =  216.574159005\n"
     ]
    },
    {
     "data": {
      "image/png": "[encoded data removed]",
      "text/plain": [
       "<matplotlib.figure.Figure at 0x112266510>"
      ]
     },
     "metadata": {},
     "output_type": "display_data"
    }
   ],
   "source": [
    "from numpy import *\n",
    "from numpy.random import *\n",
    "import matplotlib.pyplot as plt\n",
    "import matplotlib.cm as cm\n",
    "from mpl_toolkits.basemap import Basemap\n",
    "import matplotlib.gridspec as gridspec\n",
    "from matplotlib.colors import LogNorm\n",
    "from LabFuncs import *\n",
    "from Params import *\n",
    "from HaloFuncs import *\n",
    "from WIMPFuncs import *\n",
    "import pandas\n",
    "from PlotFuncs import *\n",
    "from sklearn import mixture\n",
    "\n",
    "vmin=-495.0\n",
    "vmax=495.0\n",
    "nbins=30\n",
    "cmap=cm.Greens\n",
    "col1='ForestGreen'\n",
    "levels=[0.2]\n",
    "tit_fontsize=30\n",
    "z_th = 6.0\n",
    "colp = 'Orange'\n",
    "\n",
    "df = pandas.read_csv('../GAIA_SDSS_substructures_next_30_cands.csv')\n",
    "names = df.group_id.unique()\n",
    "num_cands = size(names)\n",
    "\n",
    "i_cand = 25\n",
    "Cand = df.loc[df['group_id'] == names[i_cand]]\n",
    "\n",
    "\n",
    "######\n",
    "name = Cand.group_id.unique()[0]\n",
    "nstars = size(Cand,0)\n",
    "feh = Cand.feh\n",
    "vx,vy,vz = Cand.GalRVel,Cand.GalTVel,Cand.GalzVel\n",
    "data = array([vy,vx,vz]).T\n",
    "clf1 = mixture.GaussianMixture(n_components=1, covariance_type='full')\n",
    "clf2 = mixture.GaussianMixture(n_components=2, covariance_type='full')\n",
    "\n",
    " \n",
    "clf1.fit(data)\n",
    "print ' 1 component: AIC = ',clf1.aic(data),'BIC = ',clf1.bic(data)\n",
    "\n",
    "clf2.fit(data)\n",
    "print '2 componets: AIC = ',clf2.aic(data),'BIC = ',clf2.bic(data)\n",
    "\n",
    "\n",
    "vfine = linspace(-500,500,400)\n",
    "\n",
    "clf1.fit(vx.values.reshape(-1,1))\n",
    "fv1 = 10.**clf1.score_samples(vfine.reshape(-1,1))\n",
    "fv1 /= trapz(fv1,vfine)\n",
    "plt.plot(vfine,fv1)\n",
    "\n",
    "clf2.fit(vx.values.reshape(-1,1))\n",
    "fv2 = 10.**clf2.score_samples(vfine.reshape(-1,1))\n",
    "fv2 /= trapz(fv2,vfine)\n",
    "plt.plot(vfine,fv2)\n",
    "\n",
    "plt.hist(vx,normed=True)\n",
    "\n",
    "plt.show()"
   ]
  },
  {
   "cell_type": "code",
   "execution_count": 78,
   "metadata": {},
   "outputs": [
    {
     "data": {
      "image/png": "[encoded data removed]",
      "text/plain": [
       "<matplotlib.figure.Figure at 0x1175617d0>"
      ]
     },
     "metadata": {},
     "output_type": "display_data"
    }
   ],
   "source": [
    "vfine = linspace(-500,500,400)\n",
    "\n",
    "clf1.fit(vx.values.reshape(-1,1))\n",
    "fv1 = 10.**clf1.score_samples(vfine.reshape(-1,1))\n",
    "fv1 /= trapz(fv1,vfine)\n",
    "plt.plot(vfine,fv1)\n",
    "\n",
    "clf2.fit(vx.values.reshape(-1,1))\n",
    "fv2 = 10.**clf2.score_samples(vfine.reshape(-1,1))\n",
    "fv2 /= trapz(fv2,vfine)\n",
    "plt.plot(vfine,fv2)\n",
    "\n",
    "plt.hist(vx,normed=True)\n",
    "\n",
    "plt.show()"
   ]
  },
  {
   "cell_type": "code",
   "execution_count": 72,
   "metadata": {},
   "outputs": [
    {
     "name": "stdout",
     "output_type": "stream",
     "text": [
      "246.624379517\n",
      "255.118101222\n"
     ]
    }
   ],
   "source": [
    "clf = mixture.GaussianMixture(n_components=1, covariance_type='full')\n",
    "clf.fit(vy.values.reshape(-1,1))\n",
    "print clf.bic(vy.values.reshape(-1,1))\n",
    "\n",
    "clf = mixture.GaussianMixture(n_components=2, covariance_type='full')\n",
    "clf.fit(vy.values.reshape(-1,1))\n",
    "print clf.bic(vy.values.reshape(-1,1))"
   ]
  },
  {
   "cell_type": "code",
   "execution_count": 12,
   "metadata": {},
   "outputs": [
    {
     "data": {
      "text/plain": [
       "(600, 2)"
      ]
     },
     "execution_count": 12,
     "metadata": {},
     "output_type": "execute_result"
    }
   ],
   "source": [
    "shape(X_train)"
   ]
  },
  {
   "cell_type": "code",
   "execution_count": null,
   "metadata": {
    "collapsed": true
   },
   "outputs": [],
   "source": []
  }
 ],
 "metadata": {
  "kernelspec": {
   "display_name": "Python 2",
   "language": "python",
   "name": "python2"
  },
  "language_info": {
   "codemirror_mode": {
    "name": "ipython",
    "version": 2
   },
   "file_extension": ".py",
   "mimetype": "text/x-python",
   "name": "python",
   "nbconvert_exporter": "python",
   "pygments_lexer": "ipython2",
   "version": "2.7.6"
  }
 },
 "nbformat": 4,
 "nbformat_minor": 2
}
