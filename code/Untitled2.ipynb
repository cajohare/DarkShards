{
 "cells": [
  {
   "cell_type": "code",
   "execution_count": 3,
   "metadata": {},
   "outputs": [
    {
     "name": "stdout",
     "output_type": "stream",
     "text": [
      "0\n",
      "1\n",
      "2\n",
      "3\n",
      "4\n",
      "5\n",
      "6\n",
      "7\n",
      "8\n",
      "9\n"
     ]
    }
   ],
   "source": [
    "from numpy import *\n",
    "from numpy.random import *\n",
    "import matplotlib.pyplot as plt\n",
    "import matplotlib.cm as cm\n",
    "from mpl_toolkits.basemap import Basemap\n",
    "from LabFuncs import *\n",
    "from Params import *\n",
    "from HaloFuncs import *\n",
    "from WIMPFuncs import *\n",
    "\n",
    "# DM params\n",
    "A = Xe131.MassNumber\n",
    "m_chi = 20.0\n",
    "sigma_p = 1.0e-45\n",
    "\n",
    "# Energy range\n",
    "n = 500\n",
    "E_th = 0.0001\n",
    "E_max = 50.0\n",
    "E = linspace(E_th,E_max,n)\n",
    "v_min = MinimumWIMPSpeed(E,A,m_chi)\n",
    "\n",
    "# Loop over times\n",
    "ndays = 10\n",
    "days = linspace(0,365,ndays)\n",
    "gmin0 = zeros(shape=(ndays,n))\n",
    "gmin0_gf = zeros(shape=(ndays,n))\n",
    "\n",
    "for i in range(0,ndays):\n",
    "    gmin0[i,:] = gvmin_3D(v_min,days[i],array([1.0,1.0,1.0])*233.0/sqrt(2.0),GravFocus=False)\n",
    "    gmin0_gf[i,:] = gvmin_3D(v_min,days[i],array([1.0,1.0,1.0])*233.0/sqrt(2.0),GravFocus=True)\n",
    "    print i"
   ]
  },
  {
   "cell_type": "code",
   "execution_count": 2,
   "metadata": {},
   "outputs": [
    {
     "data": {
      "image/png": "[encoded data removed]",
      "text/plain": [
       "<matplotlib.figure.Figure at 0x104317250>"
      ]
     },
     "metadata": {},
     "output_type": "display_data"
    }
   ],
   "source": [
    "for i in range(0,ndays):\n",
    "    plt.plot(v_min,gmin0[i,:],'b-')\n",
    "    \n",
    "#for i in range(0,ndays):\n",
    "    #plt.plot(v_min,gmin0_gf[i,:],'r-')\n",
    "plt.show()"
   ]
  },
  {
   "cell_type": "code",
   "execution_count": null,
   "metadata": {
    "collapsed": true
   },
   "outputs": [],
   "source": []
  }
 ],
 "metadata": {
  "kernelspec": {
   "display_name": "Python 2",
   "language": "python",
   "name": "python2"
  },
  "language_info": {
   "codemirror_mode": {
    "name": "ipython",
    "version": 2
   },
   "file_extension": ".py",
   "mimetype": "text/x-python",
   "name": "python",
   "nbconvert_exporter": "python",
   "pygments_lexer": "ipython2",
   "version": "2.7.6"
  }
 },
 "nbformat": 4,
 "nbformat_minor": 2
}
