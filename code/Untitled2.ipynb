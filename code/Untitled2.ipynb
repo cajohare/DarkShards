{
 "cells": [
  {
   "cell_type": "code",
   "execution_count": 6,
   "metadata": {},
   "outputs": [],
   "source": [
    "from astropy.io import fits\n",
    "hdul = fits.open('../../apogee_distances-DR14.fits')"
   ]
  },
  {
   "cell_type": "code",
   "execution_count": 52,
   "metadata": {},
   "outputs": [
    {
     "data": {
      "text/plain": [
       "<astropy.io.fits.hdu.table.BinTableHDU at 0x1147cd5f8>"
      ]
     },
     "execution_count": 52,
     "metadata": {},
     "output_type": "execute_result"
    }
   ],
   "source": []
  },
  {
   "cell_type": "code",
   "execution_count": 42,
   "metadata": {},
   "outputs": [
    {
     "data": {
      "image/png": "[encoded data removed]",
      "text/plain": [
       "<Figure size 432x288 with 1 Axes>"
      ]
     },
     "metadata": {
      "needs_background": "light"
     },
     "output_type": "display_data"
    }
   ],
   "source": [
    "import matplotlib.pyplot as plt\n",
    "\n",
    "dat = hdul[1].data\n",
    "d1 = dat.field(4)\n",
    "d1 = d1[~isnan(d1)]\n",
    "plt.hist(d1,bins='fd')\n",
    "plt.show()"
   ]
  },
  {
   "cell_type": "code",
   "execution_count": 47,
   "metadata": {},
   "outputs": [
    {
     "data": {
      "text/plain": [
       "ColDefs(\n",
       "    name = 'APOGEE_ID'; format = '20A'\n",
       "    name = 'ASPCAP_ID'; format = '50A'\n",
       "    name = 'BPG_dist05'; format = 'E'; unit = 'kpc'\n",
       "    name = 'BPG_dist16'; format = 'E'; unit = 'kpc'\n",
       "    name = 'BPG_dist50'; format = 'E'; unit = 'kpc'\n",
       "    name = 'BPG_dist84'; format = 'E'; unit = 'kpc'\n",
       "    name = 'BPG_dist95'; format = 'E'; unit = 'kpc'\n",
       "    name = 'BPG_meandist'; format = 'E'; unit = 'kpc'\n",
       "    name = 'BPG_diststd'; format = 'E'; unit = 'kpc'\n",
       "    name = 'BPG_AV05'; format = 'E'; unit = 'mag'\n",
       "    name = 'BPG_AV16'; format = 'E'; unit = 'mag'\n",
       "    name = 'BPG_AV50'; format = 'E'; unit = 'mag'\n",
       "    name = 'BPG_AV84'; format = 'E'; unit = 'mag'\n",
       "    name = 'BPG_AV95'; format = 'E'; unit = 'mag'\n",
       "    name = 'BPG_meanAV'; format = 'E'; unit = 'mag'\n",
       "    name = 'BPG_AVstd'; format = 'E'; unit = 'mag'\n",
       "    name = 'BPG_INPUTFLAGS'; format = '80A'\n",
       "    name = 'BPG_OUTPUTFLAGS'; format = '50A'\n",
       "    name = 'NAOC_dist'; format = 'E'; unit = 'kpc'\n",
       "    name = 'NAOC_err_dist'; format = 'E'; unit = 'kpc'\n",
       "    name = 'NAOC_parallax'; format = 'E'; unit = 'mas'\n",
       "    name = 'NAOC_err_parallax'; format = 'E'; unit = 'mas'\n",
       "    name = 'NAOC_AK'; format = 'E'; unit = 'mag'\n",
       "    name = 'NAOC_err_AK'; format = 'E'; unit = 'mag'\n",
       "    name = 'NICE_dist'; format = 'E'; unit = 'kpc'\n",
       "    name = 'NICE_err_dist'; format = 'E'; unit = 'kpc'\n",
       "    name = 'NICE_E_JK'; format = 'E'; unit = 'mag'\n",
       "    name = 'NMSU_dist'; format = 'D'\n",
       "    name = 'NMSU_dist_err'; format = 'D'\n",
       "    name = 'NMSU_dist_prior'; format = 'D'\n",
       "    name = 'NMSU_dist_prior_err'; format = 'D'\n",
       ")"
      ]
     },
     "execution_count": 47,
     "metadata": {},
     "output_type": "execute_result"
    }
   ],
   "source": [
    "cols = hdul[1].columns\n",
    "cols"
   ]
  },
  {
   "cell_type": "code",
   "execution_count": null,
   "metadata": {},
   "outputs": [],
   "source": []
  }
 ],
 "metadata": {
  "kernelspec": {
   "display_name": "Python 3",
   "language": "python",
   "name": "python3"
  },
  "language_info": {
   "codemirror_mode": {
    "name": "ipython",
    "version": 3
   },
   "file_extension": ".py",
   "mimetype": "text/x-python",
   "name": "python",
   "nbconvert_exporter": "python",
   "pygments_lexer": "ipython3",
   "version": "3.7.3"
  }
 },
 "nbformat": 4,
 "nbformat_minor": 2
}
